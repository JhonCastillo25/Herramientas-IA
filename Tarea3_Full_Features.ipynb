{
  "nbformat": 4,
  "nbformat_minor": 0,
  "metadata": {
    "colab": {
      "name": "Tarea3_Full_Features.ipynb",
      "provenance": []
    },
    "kernelspec": {
      "name": "python3",
      "display_name": "Python 3"
    },
    "language_info": {
      "name": "python"
    }
  },
  "cells": [
    {
      "cell_type": "markdown",
      "metadata": {
        "id": "MeAq4HhHx8sB"
      },
      "source": [
        "# FULL FEATURES"
      ]
    },
    {
      "cell_type": "code",
      "metadata": {
        "id": "GUfel1nmOEI7"
      },
      "source": [
        "import numpy as np\n",
        "import pandas as pd \n",
        "import matplotlib.pyplot as plt\n",
        "import seaborn as sns\n",
        "import sklearn\n",
        "from sklearn.ensemble import RandomForestRegressor\n",
        "from sklearn.metrics import mean_absolute_error\n",
        "from sklearn.model_selection import train_test_split\n",
        "from sklearn.preprocessing import OrdinalEncoder\n",
        "from sklearn.compose import ColumnTransformer\n",
        "from sklearn.pipeline import Pipeline\n",
        "from sklearn.impute import SimpleImputer\n",
        "from sklearn.preprocessing import OneHotEncoder\n",
        "\n",
        "%matplotlib inline"
      ],
      "execution_count": 24,
      "outputs": []
    },
    {
      "cell_type": "code",
      "metadata": {
        "id": "vvg2hfQYRCOH"
      },
      "source": [
        "train = pd.read_csv('train.csv', index_col='Id')\n",
        "test_df = pd.read_csv('test.csv', index_col='Id')"
      ],
      "execution_count": 25,
      "outputs": []
    },
    {
      "cell_type": "code",
      "metadata": {
        "colab": {
          "base_uri": "https://localhost:8080/"
        },
        "id": "9U57uCIURD0O",
        "outputId": "5e710822-e466-47e5-b288-562cf485ea9e"
      },
      "source": [
        "train.head"
      ],
      "execution_count": 26,
      "outputs": [
        {
          "output_type": "execute_result",
          "data": {
            "text/plain": [
              "<bound method NDFrame.head of       MSSubClass MSZoning  LotFrontage  ...  SaleType SaleCondition SalePrice\n",
              "Id                                      ...                                  \n",
              "1             60       RL         65.0  ...        WD        Normal    208500\n",
              "2             20       RL         80.0  ...        WD        Normal    181500\n",
              "3             60       RL         68.0  ...        WD        Normal    223500\n",
              "4             70       RL         60.0  ...        WD       Abnorml    140000\n",
              "5             60       RL         84.0  ...        WD        Normal    250000\n",
              "...          ...      ...          ...  ...       ...           ...       ...\n",
              "1456          60       RL         62.0  ...        WD        Normal    175000\n",
              "1457          20       RL         85.0  ...        WD        Normal    210000\n",
              "1458          70       RL         66.0  ...        WD        Normal    266500\n",
              "1459          20       RL         68.0  ...        WD        Normal    142125\n",
              "1460          20       RL         75.0  ...        WD        Normal    147500\n",
              "\n",
              "[1460 rows x 80 columns]>"
            ]
          },
          "metadata": {},
          "execution_count": 26
        }
      ]
    },
    {
      "cell_type": "code",
      "metadata": {
        "colab": {
          "base_uri": "https://localhost:8080/"
        },
        "id": "6ib45eR9YW-8",
        "outputId": "9b61a0ab-23ba-48bc-bc42-2428ab6e4c94"
      },
      "source": [
        "train.info()"
      ],
      "execution_count": 27,
      "outputs": [
        {
          "output_type": "stream",
          "name": "stdout",
          "text": [
            "<class 'pandas.core.frame.DataFrame'>\n",
            "Int64Index: 1460 entries, 1 to 1460\n",
            "Data columns (total 80 columns):\n",
            " #   Column         Non-Null Count  Dtype  \n",
            "---  ------         --------------  -----  \n",
            " 0   MSSubClass     1460 non-null   int64  \n",
            " 1   MSZoning       1460 non-null   object \n",
            " 2   LotFrontage    1201 non-null   float64\n",
            " 3   LotArea        1460 non-null   int64  \n",
            " 4   Street         1460 non-null   object \n",
            " 5   Alley          91 non-null     object \n",
            " 6   LotShape       1460 non-null   object \n",
            " 7   LandContour    1460 non-null   object \n",
            " 8   Utilities      1460 non-null   object \n",
            " 9   LotConfig      1460 non-null   object \n",
            " 10  LandSlope      1460 non-null   object \n",
            " 11  Neighborhood   1460 non-null   object \n",
            " 12  Condition1     1460 non-null   object \n",
            " 13  Condition2     1460 non-null   object \n",
            " 14  BldgType       1460 non-null   object \n",
            " 15  HouseStyle     1460 non-null   object \n",
            " 16  OverallQual    1460 non-null   int64  \n",
            " 17  OverallCond    1460 non-null   int64  \n",
            " 18  YearBuilt      1460 non-null   int64  \n",
            " 19  YearRemodAdd   1460 non-null   int64  \n",
            " 20  RoofStyle      1460 non-null   object \n",
            " 21  RoofMatl       1460 non-null   object \n",
            " 22  Exterior1st    1460 non-null   object \n",
            " 23  Exterior2nd    1460 non-null   object \n",
            " 24  MasVnrType     1452 non-null   object \n",
            " 25  MasVnrArea     1452 non-null   float64\n",
            " 26  ExterQual      1460 non-null   object \n",
            " 27  ExterCond      1460 non-null   object \n",
            " 28  Foundation     1460 non-null   object \n",
            " 29  BsmtQual       1423 non-null   object \n",
            " 30  BsmtCond       1423 non-null   object \n",
            " 31  BsmtExposure   1422 non-null   object \n",
            " 32  BsmtFinType1   1423 non-null   object \n",
            " 33  BsmtFinSF1     1460 non-null   int64  \n",
            " 34  BsmtFinType2   1422 non-null   object \n",
            " 35  BsmtFinSF2     1460 non-null   int64  \n",
            " 36  BsmtUnfSF      1460 non-null   int64  \n",
            " 37  TotalBsmtSF    1460 non-null   int64  \n",
            " 38  Heating        1460 non-null   object \n",
            " 39  HeatingQC      1460 non-null   object \n",
            " 40  CentralAir     1460 non-null   object \n",
            " 41  Electrical     1459 non-null   object \n",
            " 42  1stFlrSF       1460 non-null   int64  \n",
            " 43  2ndFlrSF       1460 non-null   int64  \n",
            " 44  LowQualFinSF   1460 non-null   int64  \n",
            " 45  GrLivArea      1460 non-null   int64  \n",
            " 46  BsmtFullBath   1460 non-null   int64  \n",
            " 47  BsmtHalfBath   1460 non-null   int64  \n",
            " 48  FullBath       1460 non-null   int64  \n",
            " 49  HalfBath       1460 non-null   int64  \n",
            " 50  BedroomAbvGr   1460 non-null   int64  \n",
            " 51  KitchenAbvGr   1460 non-null   int64  \n",
            " 52  KitchenQual    1460 non-null   object \n",
            " 53  TotRmsAbvGrd   1460 non-null   int64  \n",
            " 54  Functional     1460 non-null   object \n",
            " 55  Fireplaces     1460 non-null   int64  \n",
            " 56  FireplaceQu    770 non-null    object \n",
            " 57  GarageType     1379 non-null   object \n",
            " 58  GarageYrBlt    1379 non-null   float64\n",
            " 59  GarageFinish   1379 non-null   object \n",
            " 60  GarageCars     1460 non-null   int64  \n",
            " 61  GarageArea     1460 non-null   int64  \n",
            " 62  GarageQual     1379 non-null   object \n",
            " 63  GarageCond     1379 non-null   object \n",
            " 64  PavedDrive     1460 non-null   object \n",
            " 65  WoodDeckSF     1460 non-null   int64  \n",
            " 66  OpenPorchSF    1460 non-null   int64  \n",
            " 67  EnclosedPorch  1460 non-null   int64  \n",
            " 68  3SsnPorch      1460 non-null   int64  \n",
            " 69  ScreenPorch    1460 non-null   int64  \n",
            " 70  PoolArea       1460 non-null   int64  \n",
            " 71  PoolQC         7 non-null      object \n",
            " 72  Fence          281 non-null    object \n",
            " 73  MiscFeature    54 non-null     object \n",
            " 74  MiscVal        1460 non-null   int64  \n",
            " 75  MoSold         1460 non-null   int64  \n",
            " 76  YrSold         1460 non-null   int64  \n",
            " 77  SaleType       1460 non-null   object \n",
            " 78  SaleCondition  1460 non-null   object \n",
            " 79  SalePrice      1460 non-null   int64  \n",
            "dtypes: float64(3), int64(34), object(43)\n",
            "memory usage: 923.9+ KB\n"
          ]
        }
      ]
    },
    {
      "cell_type": "code",
      "metadata": {
        "id": "ECAGGpTZSL7P"
      },
      "source": [
        "y = train['SalePrice']\n",
        "\n",
        "X = train.drop(['SalePrice'], axis=1)"
      ],
      "execution_count": 28,
      "outputs": []
    },
    {
      "cell_type": "code",
      "metadata": {
        "id": "yvITZSQuSWZ_"
      },
      "source": [
        "X_train, X_valid, y_train, y_valid = train_test_split(X,y, train_size=0.8, test_size=0.2, random_state=0)"
      ],
      "execution_count": 29,
      "outputs": []
    },
    {
      "cell_type": "code",
      "metadata": {
        "colab": {
          "base_uri": "https://localhost:8080/"
        },
        "id": "Z5c4auUGUUmS",
        "outputId": "5c70bac7-c85b-4274-dade-cf8342aa3c32"
      },
      "source": [
        "# categorical columns\n",
        "\n",
        "categorical_cols = [col for col in X_train.columns if X_train[col].dtype == 'object' and \n",
        "                    X_train[col].nunique() < 9]\n",
        "\n",
        "# numerical columns\n",
        "\n",
        "numerical_cols = [col for col in X_train.columns if X_train[col].dtype in ['int64','float64']]\n",
        "    \n",
        "# total number of columns to be learn from \n",
        "\n",
        "my_cols = categorical_cols + numerical_cols\n",
        "\n",
        "train_X =X_train[my_cols].copy()\n",
        "valid_X = X_valid[my_cols].copy()\n",
        "test_X = test_df[my_cols].copy()\n",
        "\n",
        "print(\"Total number of columns to preprocess: \", len(my_cols))"
      ],
      "execution_count": 30,
      "outputs": [
        {
          "output_type": "stream",
          "name": "stdout",
          "text": [
            "Total number of columns to preprocess:  74\n"
          ]
        }
      ]
    },
    {
      "cell_type": "code",
      "metadata": {
        "colab": {
          "base_uri": "https://localhost:8080/"
        },
        "id": "ZW4QSC_9RuzL",
        "outputId": "e2d6a940-ae95-4d5a-9130-b800dee12bb7"
      },
      "source": [
        "# numerical columns transoformation\n",
        "numerical_transformer = SimpleImputer(strategy='mean')\n",
        "\n",
        "# categorical columns transformation\n",
        "\n",
        "categorical_transformer = Pipeline(steps=[('impute', SimpleImputer(strategy='constant')),\n",
        "                                          ('onehot', OneHotEncoder(handle_unknown='ignore', sparse=False))\n",
        "                             ])\n",
        "\n",
        "# preprocess both num and cat columns\n",
        "\n",
        "preprocessor = ColumnTransformer(transformers=[('num', numerical_transformer, numerical_cols),\n",
        "                                               ('cat', categorical_transformer,categorical_cols)\n",
        "])\n",
        "\n",
        "# define model\n",
        "\n",
        "model_ = RandomForestRegressor(n_estimators=155, random_state=0)\n",
        "\n",
        "# combine both preprocessor and model\n",
        "\n",
        "final_model = Pipeline(steps=[('preprocessor', preprocessor),\n",
        "                              ('model',model_ )\n",
        "    ])\n",
        "\n",
        "# fitting model to data\n",
        "\n",
        "final_model.fit(train_X, y_train)\n",
        "\n",
        "# predcting outcomes\n",
        "\n",
        "predicted_price = final_model.predict(valid_X)\n",
        "print(final_model.score(X_valid, y_valid))\n",
        "\n",
        "# calculating MAE\n",
        "\n",
        "MAE = mean_absolute_error(y_valid,predicted_price)\n",
        "\n",
        "print(\"MAE: \", MAE)"
      ],
      "execution_count": 32,
      "outputs": [
        {
          "output_type": "stream",
          "name": "stdout",
          "text": [
            "0.83891461861817\n",
            "MAE:  17266.14752540875\n"
          ]
        },
        {
          "output_type": "stream",
          "name": "stderr",
          "text": [
            "/usr/local/lib/python3.7/dist-packages/sklearn/compose/_column_transformer.py:430: FutureWarning: Given feature/column names or counts do not match the ones for the data given during fit. This will fail from v0.24.\n",
            "  FutureWarning)\n"
          ]
        }
      ]
    },
    {
      "cell_type": "markdown",
      "metadata": {
        "id": "JCoI2EigZHdq"
      },
      "source": [
        "# Modelo retirando las columnas categoricas y valores nulos. "
      ]
    },
    {
      "cell_type": "code",
      "metadata": {
        "colab": {
          "base_uri": "https://localhost:8080/"
        },
        "id": "YSLkSXiBZNlL",
        "outputId": "2471af68-9ff0-4bb8-a8fa-24a68847d746"
      },
      "source": [
        "y = train['SalePrice']\n",
        "\n",
        "train_df2 = train.drop(['SalePrice'], axis=1)\n",
        "X = train_df2.select_dtypes(exclude=['object'])\n",
        "\n",
        "X_train, X_valid, y_train, y_valid = train_test_split(X,y, train_size=0.8, test_size=0.2, random_state=0)\n",
        "\n",
        "col_wiht_missing_value = [col for col in X_train.columns \n",
        "                          if X_train[col].isnull().any()]\n",
        "\n",
        "print(col_wiht_missing_value)\n",
        "\n",
        "X_train = X_train.drop(col_wiht_missing_value, axis=1)\n",
        "X_valid = X_valid.drop(col_wiht_missing_value, axis=1)\n",
        "\n",
        "# random forest model training\n",
        "\n",
        "model = RandomForestRegressor(random_state=0)\n",
        "\n",
        "model.fit(X_train,y_train)\n",
        "\n",
        "# predicting validation values\n",
        "\n",
        "pred_values = model.predict(X_valid)\n",
        "\n",
        "print(model.score(X_valid, y_valid))\n",
        "# Calculating MAE\n",
        "\n",
        "MAE = mean_absolute_error(y_valid,pred_values)\n",
        "\n",
        "print(\"mean absolute error of model:\", MAE)"
      ],
      "execution_count": 33,
      "outputs": [
        {
          "output_type": "stream",
          "name": "stdout",
          "text": [
            "['LotFrontage', 'MasVnrArea', 'GarageYrBlt']\n",
            "0.8412665387023727\n",
            "mean absolute error of model: 17837.82570776256\n"
          ]
        }
      ]
    },
    {
      "cell_type": "code",
      "metadata": {
        "colab": {
          "base_uri": "https://localhost:8080/"
        },
        "id": "7cM_HBSyamKL",
        "outputId": "7b00cd49-d884-4cac-bef0-fa568e7ded98"
      },
      "source": [
        "from sklearn.linear_model import LinearRegression\n",
        "\n",
        "regr = LinearRegression()\n",
        "regr.fit(X_train, y_train)\n",
        "pred=regr.predict(X_valid)\n",
        "print(regr.score(X_valid, y_valid))\n",
        "\n",
        "MAE = mean_absolute_error(y_valid,pred)\n",
        "\n",
        "print(\"mean absolute error of model:\", MAE)"
      ],
      "execution_count": 34,
      "outputs": [
        {
          "output_type": "stream",
          "name": "stdout",
          "text": [
            "0.6436463812634914\n",
            "mean absolute error of model: 23831.423587890902\n"
          ]
        }
      ]
    },
    {
      "cell_type": "code",
      "metadata": {
        "colab": {
          "base_uri": "https://localhost:8080/"
        },
        "id": "aRPpYZjObxp2",
        "outputId": "854b54ea-35b7-45a6-8467-eb0f46802103"
      },
      "source": [
        "from sklearn.tree import DecisionTreeRegressor\n",
        "regressorTree = DecisionTreeRegressor(random_state = 0)\n",
        "regressorTree.fit(X_train, y_train)  \n",
        "pred1=regressorTree.predict(X_valid)\n",
        "print(regressorTree.score(X_valid, y_valid))\n",
        "\n",
        "MAE = mean_absolute_error(y_valid,pred1)\n",
        "\n",
        "print(\"mean absolute error of model:\", MAE)"
      ],
      "execution_count": 35,
      "outputs": [
        {
          "output_type": "stream",
          "name": "stdout",
          "text": [
            "0.7810313452488958\n",
            "mean absolute error of model: 26025.359589041094\n"
          ]
        }
      ]
    }
  ]
}