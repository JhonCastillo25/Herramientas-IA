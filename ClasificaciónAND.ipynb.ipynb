{
  "nbformat": 4,
  "nbformat_minor": 0,
  "metadata": {
    "colab": {
      "name": "ClasificaciónAND.ipynb",
      "provenance": [],
      "collapsed_sections": []
    },
    "kernelspec": {
      "name": "python3",
      "display_name": "Python 3"
    }
  },
  "cells": [
    {
      "cell_type": "code",
      "metadata": {
        "id": "4oQucEAah2rl"
      },
      "source": [
        "from sklearn.linear_model import Perceptron\n",
        "import numpy as np\n",
        "import matplotlib.pyplot as plt"
      ],
      "execution_count": null,
      "outputs": []
    },
    {
      "cell_type": "code",
      "metadata": {
        "id": "D7Bjojb0h8tr"
      },
      "source": [
        "x_train = np.zeros([4,2],dtype=np.float64)\n",
        "y_train = np.zeros([4,1],dtype=np.float64)\n",
        "\n",
        "x_train = [[0,0],[0,1],[1,0],[1,1]]\n",
        "y_train = [0,0,0,1]"
      ],
      "execution_count": null,
      "outputs": []
    },
    {
      "cell_type": "code",
      "metadata": {
        "colab": {
          "base_uri": "https://localhost:8080/"
        },
        "id": "97QGaqcGk83n",
        "outputId": "525d1bd4-a2e8-4f39-9dee-493f1dc3bc27"
      },
      "source": [
        "clf_per = Perceptron(random_state=0, tol=1e-3)\r\n",
        "clf_per.fit(x_train,y_train)\r\n",
        "clf_per.score(x_train,y_train)"
      ],
      "execution_count": null,
      "outputs": [
        {
          "output_type": "execute_result",
          "data": {
            "text/plain": [
              "1.0"
            ]
          },
          "metadata": {
            "tags": []
          },
          "execution_count": 10
        }
      ]
    },
    {
      "cell_type": "code",
      "metadata": {
        "colab": {
          "base_uri": "https://localhost:8080/"
        },
        "id": "e8-I87LplRq5",
        "outputId": "c2ac0559-20d3-4785-ca9b-b4afe9bd7dd1"
      },
      "source": [
        "y_est = clf_per.predict(x_train)\r\n",
        "print(y_est)"
      ],
      "execution_count": null,
      "outputs": [
        {
          "output_type": "stream",
          "text": [
            "[0 0 0 1]\n"
          ],
          "name": "stdout"
        }
      ]
    },
    {
      "cell_type": "code",
      "metadata": {
        "colab": {
          "base_uri": "https://localhost:8080/"
        },
        "id": "y5Djy6Q9llpK",
        "outputId": "a36b8413-4589-4431-d96d-b65e6db61ec5"
      },
      "source": [
        "print(\"coeficiente\", clf_per.coef_)\r\n",
        "print(\"coeficiente\", clf_per.intercept_)\r\n"
      ],
      "execution_count": null,
      "outputs": [
        {
          "output_type": "stream",
          "text": [
            "coeficiente [[2. 2.]]\n",
            "coeficiente [-3.]\n"
          ],
          "name": "stdout"
        }
      ]
    }
  ]
}